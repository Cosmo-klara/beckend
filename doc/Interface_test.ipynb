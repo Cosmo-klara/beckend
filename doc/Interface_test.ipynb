{
 "cells": [
  {
   "cell_type": "markdown",
   "metadata": {},
   "source": [
    "## 接口说明\n",
    "\n",
    "> 需要增加接口功能请整理成文档在 GitHub 上提交 issue，我会尽快处理。\n",
    "\n",
    "下面的代码仅用于打印接口返回数据，url:接口 data：接口的请求体，均使用 POST"
   ]
  },
  {
   "cell_type": "code",
   "execution_count": 2,
   "metadata": {},
   "outputs": [],
   "source": [
    "import requests\n",
    "import json\n",
    "def fetch(url, data, headers=None):\n",
    "    if headers is None:\n",
    "        headers = {\"Content-Type\": \"application/json\"}\n",
    "    try:\n",
    "        response = requests.post(url, headers=headers, json=data)\n",
    "        response.raise_for_status()  # 检查请求是否成功\n",
    "        # 美化JSON输出\n",
    "        pretty_json = json.dumps(response.json(), indent=2, ensure_ascii=False)\n",
    "        print(pretty_json)\n",
    "    except requests.exceptions.RequestException as e:\n",
    "        return f\"请求失败: {str(e)}\"\n",
    "    except json.JSONDecodeError:\n",
    "        return \"返回的数据不是有效的JSON格式\""
   ]
  },
  {
   "cell_type": "markdown",
   "metadata": {},
   "source": [
    "### 1. 用户 `/auth`\n",
    "\n",
    "+ `/register` 注册用户写入数据库"
   ]
  },
  {
   "cell_type": "code",
   "execution_count": null,
   "metadata": {},
   "outputs": [],
   "source": [
    "fetch(\"http://localhost:3000/auth/register\",{\n",
    "    \"role\": \"user\",\n",
    "    \"id\": \"100000009\",\n",
    "    \"password\": \"0\"\n",
    "})"
   ]
  },
  {
   "cell_type": "markdown",
   "metadata": {},
   "source": [
    "+ `/login` 用户登录验证密码"
   ]
  },
  {
   "cell_type": "code",
   "execution_count": null,
   "metadata": {},
   "outputs": [
    {
     "name": "stdout",
     "output_type": "stream",
     "text": [
      "{\n",
      "  \"message\": \"Login successful\",\n",
      "  \"user\": {\n",
      "    \"id\": \"100000000\",\n",
      "    \"user_name\": \"测试用户\",\n",
      "    \"password\": \"123\",\n",
      "    \"address_list\": [\n",
      "      \"测试地址2\",\n",
      "      \"测试地址2\"\n",
      "    ]\n",
      "  },\n",
      "  \"role\": \"users\"\n",
      "}\n"
     ]
    }
   ],
   "source": [
    "fetch(\"http://localhost:3000/auth/login\",{\n",
    "    \"id\": \"100000000\",\n",
    "    \"password\": \"0\"\n",
    "})"
   ]
  },
  {
   "cell_type": "markdown",
   "metadata": {},
   "source": [
    "### 2. 评论 `/comment`\n",
    "\n",
    "+ `/query` 查询驿站的评价"
   ]
  },
  {
   "cell_type": "code",
   "execution_count": 4,
   "metadata": {},
   "outputs": [
    {
     "name": "stdout",
     "output_type": "stream",
     "text": [
      "[\n",
      "  {\n",
      "    \"comment_id\": 6,\n",
      "    \"user_id\": \"100000003\",\n",
      "    \"speed_score\": 3,\n",
      "    \"service_score\": 4,\n",
      "    \"price_score\": 5,\n",
      "    \"comment_content\": \"服务不错\",\n",
      "    \"timestamp\": \"2025-06-05T05:02:40.000Z\"\n",
      "  },\n",
      "  {\n",
      "    \"comment_id\": 20,\n",
      "    \"user_id\": \"100000001\",\n",
      "    \"speed_score\": 3,\n",
      "    \"service_score\": 5,\n",
      "    \"price_score\": 3,\n",
      "    \"comment_content\": \"服务不错\",\n",
      "    \"timestamp\": \"2025-05-16T05:02:40.000Z\"\n",
      "  },\n",
      "  {\n",
      "    \"comment_id\": 21,\n",
      "    \"user_id\": \"100000000\",\n",
      "    \"speed_score\": 4,\n",
      "    \"service_score\": 4,\n",
      "    \"price_score\": 5,\n",
      "    \"comment_content\": \"态度很好\",\n",
      "    \"timestamp\": \"2025-05-15T05:02:40.000Z\"\n",
      "  },\n",
      "  {\n",
      "    \"comment_id\": 16,\n",
      "    \"user_id\": \"100000001\",\n",
      "    \"speed_score\": 4,\n",
      "    \"service_score\": 3,\n",
      "    \"price_score\": 5,\n",
      "    \"comment_content\": \"推荐\",\n",
      "    \"timestamp\": \"2025-05-12T05:02:40.000Z\"\n",
      "  },\n",
      "  {\n",
      "    \"comment_id\": 18,\n",
      "    \"user_id\": \"100000000\",\n",
      "    \"speed_score\": 4,\n",
      "    \"service_score\": 4,\n",
      "    \"price_score\": 5,\n",
      "    \"comment_content\": \"很满意\",\n",
      "    \"timestamp\": \"2025-05-12T05:02:40.000Z\"\n",
      "  }\n",
      "]\n"
     ]
    }
   ],
   "source": [
    "fetch(\"http://localhost:3000/comment/query\",{\"stationId\": \"3\"})"
   ]
  },
  {
   "cell_type": "markdown",
   "metadata": {},
   "source": [
    "+ `/query_mine` 查询我的评价"
   ]
  },
  {
   "cell_type": "code",
   "execution_count": 5,
   "metadata": {},
   "outputs": [
    {
     "name": "stdout",
     "output_type": "stream",
     "text": [
      "[\n",
      "  {\n",
      "    \"comment_id\": 5,\n",
      "    \"station_id\": 2,\n",
      "    \"speed_score\": 5,\n",
      "    \"service_score\": 4,\n",
      "    \"price_score\": 4,\n",
      "    \"comment_content\": \"客服是丰川祥子, 可爱\",\n",
      "    \"timestamp\": \"2025-06-03T05:02:40.000Z\"\n",
      "  },\n",
      "  {\n",
      "    \"comment_id\": 25,\n",
      "    \"station_id\": 5,\n",
      "    \"speed_score\": 3,\n",
      "    \"service_score\": 4,\n",
      "    \"price_score\": 5,\n",
      "    \"comment_content\": \"态度很好\",\n",
      "    \"timestamp\": \"2025-05-21T05:02:40.000Z\"\n",
      "  },\n",
      "  {\n",
      "    \"comment_id\": 29,\n",
      "    \"station_id\": 1,\n",
      "    \"speed_score\": 4,\n",
      "    \"service_score\": 5,\n",
      "    \"price_score\": 5,\n",
      "    \"comment_content\": \"很满意\",\n",
      "    \"timestamp\": \"2025-05-15T05:02:40.000Z\"\n",
      "  },\n",
      "  {\n",
      "    \"comment_id\": 7,\n",
      "    \"station_id\": 1,\n",
      "    \"speed_score\": 5,\n",
      "    \"service_score\": 5,\n",
      "    \"price_score\": 3,\n",
      "    \"comment_content\": \"还行\",\n",
      "    \"timestamp\": \"2025-05-12T05:02:40.000Z\"\n",
      "  }\n",
      "]\n"
     ]
    }
   ],
   "source": [
    "fetch(\"http://localhost:3000/comment/query_mine\",{\"userId\": \"100000002\"})"
   ]
  },
  {
   "cell_type": "markdown",
   "metadata": {},
   "source": [
    "+ `/add` 添加评价"
   ]
  },
  {
   "cell_type": "code",
   "execution_count": null,
   "metadata": {},
   "outputs": [
    {
     "name": "stdout",
     "output_type": "stream",
     "text": [
      "{\n",
      "  \"message\": \"评价添加成功\",\n",
      "  \"commentId\": 31\n",
      "}\n"
     ]
    }
   ],
   "source": [
    "fetch(\"http://localhost:3000/comment/add\",{\n",
    "    \"userId\": \"100000002\",\n",
    "    \"stationId\": \"3\",\n",
    "    \"speed_score\": \"3\",\n",
    "    \"service_score\": \"4\",\n",
    "    \"price_score\": \"5\",\n",
    "    \"comment_content\": \"这是一个测试这是一个测试这是一个测试\"\n",
    "})"
   ]
  },
  {
   "cell_type": "markdown",
   "metadata": {},
   "source": [
    "+ `/delete` 删除评价"
   ]
  },
  {
   "cell_type": "code",
   "execution_count": null,
   "metadata": {},
   "outputs": [
    {
     "name": "stdout",
     "output_type": "stream",
     "text": [
      "{\n",
      "  \"message\": \"评论删除成功\"\n",
      "}\n"
     ]
    }
   ],
   "source": [
    "fetch(\"http://localhost:3000/comment/delete\",{\n",
    "    \"commentId\": \"31\",\n",
    "    \"userId\": \"100000002\"\n",
    "})"
   ]
  },
  {
   "cell_type": "markdown",
   "metadata": {},
   "source": [
    "### 3. 屏蔽 `/block`\n",
    "\n",
    "+ `/query` 查看用户收藏的驿站信息，展示用户的收藏"
   ]
  },
  {
   "cell_type": "code",
   "execution_count": 11,
   "metadata": {},
   "outputs": [
    {
     "name": "stdout",
     "output_type": "stream",
     "text": [
      "{\n",
      "  \"block_list\": [\n",
      "    {\n",
      "      \"station_id\": 1,\n",
      "      \"station_name\": \"菜鸟驿站北京房山伟业嘉园东里2号楼店(易购超市店)\",\n",
      "      \"address\": \"拱辰街道东关村竹园街1号-11\",\n",
      "      \"speed_score\": \"4.7\",\n",
      "      \"service_score\": \"5.0\",\n",
      "      \"price_score\": \"3.7\",\n",
      "      \"business_hours\": \"08:00-20:00\",\n",
      "      \"is_open\": 1\n",
      "    },\n",
      "    {\n",
      "      \"station_id\": 2,\n",
      "      \"station_name\": \"菜鸟驿站(北京房山阳光邑上417东门店)\",\n",
      "      \"address\": \"北京市房山区拱辰街道拱辰大街阳光邑上41-7号\",\n",
      "      \"speed_score\": \"3.7\",\n",
      "      \"service_score\": \"3.3\",\n",
      "      \"price_score\": \"4.0\",\n",
      "      \"business_hours\": \"06:00-17:00\",\n",
      "      \"is_open\": 0\n",
      "    },\n",
      "    {\n",
      "      \"station_id\": 6,\n",
      "      \"station_name\": \"菜鸟驿站(北京房山阜盛家园店)\",\n",
      "      \"address\": \"北京市房山区长阳镇燕保阜盛家园南区北门院外底商菜鸟驿站\",\n",
      "      \"speed_score\": \"4.0\",\n",
      "      \"service_score\": \"5.0\",\n",
      "      \"price_score\": \"5.0\",\n",
      "      \"business_hours\": \"08:00-20:00\",\n",
      "      \"is_open\": 1\n",
      "    }\n",
      "  ]\n",
      "}\n"
     ]
    }
   ],
   "source": [
    "fetch(\"http://localhost:3000/block/query\",{\"userId\": \"100000000\"})"
   ]
  },
  {
   "cell_type": "markdown",
   "metadata": {},
   "source": [
    "+ `/add` 添加收藏"
   ]
  },
  {
   "cell_type": "code",
   "execution_count": 9,
   "metadata": {},
   "outputs": [
    {
     "name": "stdout",
     "output_type": "stream",
     "text": [
      "{\n",
      "  \"message\": \"成功添加屏蔽\"\n",
      "}\n"
     ]
    }
   ],
   "source": [
    "fetch(\"http://localhost:3000/block/add\",{\n",
    "    \"userId\": \"100000000\",\n",
    "    \"stationId\": \"6\"\n",
    "})"
   ]
  },
  {
   "cell_type": "markdown",
   "metadata": {},
   "source": [
    "+ `/remove` 移除收藏"
   ]
  },
  {
   "cell_type": "code",
   "execution_count": 12,
   "metadata": {},
   "outputs": [
    {
     "name": "stdout",
     "output_type": "stream",
     "text": [
      "{\n",
      "  \"message\": \"成功移除收藏\"\n",
      "}\n"
     ]
    }
   ],
   "source": [
    "fetch(\"http://localhost:3000/block/remove\",{\n",
    "    \"userId\": \"100000000\",\n",
    "    \"stationId\": \"6\"\n",
    "})"
   ]
  },
  {
   "cell_type": "markdown",
   "metadata": {},
   "source": [
    "### 4. 收藏 `/favorite`\n",
    "\n",
    "+ `/query` 查看用户收藏的驿站信息，展示用户的收藏"
   ]
  },
  {
   "cell_type": "code",
   "execution_count": null,
   "metadata": {},
   "outputs": [
    {
     "name": "stdout",
     "output_type": "stream",
     "text": [
      "{\n",
      "  \"favorite_list\": [\n",
      "    {\n",
      "      \"station_id\": 1,\n",
      "      \"station_name\": \"菜鸟驿站北京房山伟业嘉园东里2号楼店(易购超市店)\",\n",
      "      \"address\": \"拱辰街道东关村竹园街1号-11\",\n",
      "      \"speed_score\": \"4.7\",\n",
      "      \"service_score\": \"5.0\",\n",
      "      \"price_score\": \"3.7\",\n",
      "      \"business_hours\": \"08:00-20:00\",\n",
      "      \"is_open\": 1\n",
      "    },\n",
      "    {\n",
      "      \"station_id\": 2,\n",
      "      \"station_name\": \"菜鸟驿站(北京房山阳光邑上417东门店)\",\n",
      "      \"address\": \"北京市房山区拱辰街道拱辰大街阳光邑上41-7号\",\n",
      "      \"speed_score\": \"3.7\",\n",
      "      \"service_score\": \"3.3\",\n",
      "      \"price_score\": \"4.0\",\n",
      "      \"business_hours\": \"06:00-17:00\",\n",
      "      \"is_open\": 0\n",
      "    },\n",
      "    {\n",
      "      \"station_id\": 3,\n",
      "      \"station_name\": \"菜鸟驿站(北京房山绿地社科院店)\",\n",
      "      \"address\": \"北京市房山区辰光东路16号院世纪华联三期9186号\",\n",
      "      \"speed_score\": \"3.6\",\n",
      "      \"service_score\": \"4.0\",\n",
      "      \"price_score\": \"4.6\",\n",
      "      \"business_hours\": \"09:00-22:00\",\n",
      "      \"is_open\": 1\n",
      "    },\n",
      "    {\n",
      "      \"station_id\": 4,\n",
      "      \"station_name\": \"菜鸟驿站(北京房山世茂维拉小区店)\",\n",
      "      \"address\": \"北京市房山区拱辰街道阳城环路22号\",\n",
      "      \"speed_score\": \"4.0\",\n",
      "      \"service_score\": \"4.0\",\n",
      "      \"price_score\": \"4.3\",\n",
      "      \"business_hours\": \"08:00-20:00\",\n",
      "      \"is_open\": 1\n",
      "    }\n",
      "  ]\n",
      "}\n"
     ]
    }
   ],
   "source": [
    "fetch(\"http://localhost:3000/favorite/query\",{\"userId\": \"100000001\"})"
   ]
  },
  {
   "cell_type": "markdown",
   "metadata": {},
   "source": [
    "+ `/add` 添加收藏"
   ]
  },
  {
   "cell_type": "code",
   "execution_count": 8,
   "metadata": {},
   "outputs": [
    {
     "name": "stdout",
     "output_type": "stream",
     "text": [
      "{\n",
      "  \"message\": \"成功添加收藏\"\n",
      "}\n"
     ]
    }
   ],
   "source": [
    "fetch(\"http://localhost:3000/favorite/add\",{\n",
    "    \"userId\": \"100000000\",\n",
    "    \"stationId\": \"6\"\n",
    "})"
   ]
  },
  {
   "cell_type": "markdown",
   "metadata": {},
   "source": [
    "+ `/remove` 移除收藏"
   ]
  },
  {
   "cell_type": "code",
   "execution_count": null,
   "metadata": {},
   "outputs": [
    {
     "name": "stdout",
     "output_type": "stream",
     "text": [
      "{\n",
      "  \"message\": \"成功移除收藏\"\n",
      "}\n"
     ]
    }
   ],
   "source": [
    "fetch(\"http://localhost:3000/favorite/remove\",{\n",
    "    \"userId\": \"100000000\",\n",
    "    \"stationId\": \"6\"\n",
    "})"
   ]
  },
  {
   "cell_type": "markdown",
   "metadata": {},
   "source": [
    "### 5. 驿站管理员 `/manager`\n",
    "\n",
    "+ `/query` 查询管理的驿站"
   ]
  },
  {
   "cell_type": "code",
   "execution_count": 11,
   "metadata": {},
   "outputs": [
    {
     "name": "stdout",
     "output_type": "stream",
     "text": [
      "{\n",
      "  \"stations\": [\n",
      "    {\n",
      "      \"station_id\": 1,\n",
      "      \"manager_id\": \"200000\",\n",
      "      \"station_name\": \"菜鸟驿站北京房山伟业嘉园东里2号楼店(易购超市店)\",\n",
      "      \"address\": \"拱辰街道东关村竹园街1号-11\",\n",
      "      \"coordinates\": {\n",
      "        \"x\": 116.16213100000004,\n",
      "        \"y\": 39.733182000000006\n",
      "      },\n",
      "      \"speed_score\": \"4.7\",\n",
      "      \"service_score\": \"5.0\",\n",
      "      \"price_score\": \"3.7\",\n",
      "      \"business_hours\": \"08:00-20:00\",\n",
      "      \"business_area\": \"伟业嘉园商圈\",\n",
      "      \"capacity\": 100,\n",
      "      \"is_open\": 1\n",
      "    },\n",
      "    {\n",
      "      \"station_id\": 6,\n",
      "      \"manager_id\": \"200000\",\n",
      "      \"station_name\": \"菜鸟驿站(北京房山阜盛家园店)\",\n",
      "      \"address\": \"北京市房山区长阳镇燕保阜盛家园南区北门院外底商菜鸟驿站\",\n",
      "      \"coordinates\": {\n",
      "        \"x\": 116.19358299999999,\n",
      "        \"y\": 39.71502900000004\n",
      "      },\n",
      "      \"speed_score\": \"4.0\",\n",
      "      \"service_score\": \"5.0\",\n",
      "      \"price_score\": \"5.0\",\n",
      "      \"business_hours\": \"08:00-20:00\",\n",
      "      \"business_area\": \"阜盛家园\",\n",
      "      \"capacity\": 100,\n",
      "      \"is_open\": 1\n",
      "    }\n",
      "  ]\n",
      "}\n"
     ]
    }
   ],
   "source": [
    "fetch(\"http://localhost:3000/manager/query\",{ \"managerId\": \"200000\"})"
   ]
  },
  {
   "cell_type": "markdown",
   "metadata": {},
   "source": [
    "+ `/add` 添加驿站"
   ]
  },
  {
   "cell_type": "code",
   "execution_count": 12,
   "metadata": {},
   "outputs": [
    {
     "name": "stdout",
     "output_type": "stream",
     "text": [
      "{\n",
      "  \"message\": \"Station added successfully\"\n",
      "}\n"
     ]
    }
   ],
   "source": [
    "fetch(\"http://localhost:3000/manager/add\",{\n",
    "    \"managerId\": \"200000\",\n",
    "    \"station_name\": \"测试驿站\",\n",
    "    \"address\": \"测试地址测试地址\",\n",
    "    \"business_hours\": \"08:00-20:00\",\n",
    "    \"business_area\": \"测试区域\",\n",
    "    \"capacity\": \"50\",\n",
    "    \"is_open\": \"1\"\n",
    "})"
   ]
  },
  {
   "cell_type": "markdown",
   "metadata": {},
   "source": [
    "+ `/modify` 修改驿站信息"
   ]
  },
  {
   "cell_type": "code",
   "execution_count": 13,
   "metadata": {},
   "outputs": [
    {
     "name": "stdout",
     "output_type": "stream",
     "text": [
      "{\n",
      "  \"message\": \"Station updated successfully\"\n",
      "}\n"
     ]
    }
   ],
   "source": [
    "fetch(\"http://localhost:3000/manager/modify\",{\n",
    "    \"stationId\": \"7\",\n",
    "    \"station_name\": \"测试修改驿站\",\n",
    "    \"address\": \"测试地址测试地址\",\n",
    "    \"business_hours\": \"08:00-20:00\",\n",
    "    \"business_area\": \"测试区域\",\n",
    "    \"capacity\": \"50\",\n",
    "    \"is_open\": \"0\"\n",
    "})"
   ]
  },
  {
   "cell_type": "markdown",
   "metadata": {},
   "source": [
    "+ `/remove` 移除驿站"
   ]
  },
  {
   "cell_type": "code",
   "execution_count": 14,
   "metadata": {},
   "outputs": [
    {
     "name": "stdout",
     "output_type": "stream",
     "text": [
      "{\n",
      "  \"message\": \"Station deleted successfully\"\n",
      "}\n"
     ]
    }
   ],
   "source": [
    "fetch(\"http://localhost:3000/manager/remove\",{ \"stationId\": \"7\"})"
   ]
  },
  {
   "cell_type": "markdown",
   "metadata": {},
   "source": [
    "### 6. 驿站  `station`\n",
    "\n",
    "+ `/query` 查询驿站信息"
   ]
  },
  {
   "cell_type": "code",
   "execution_count": 21,
   "metadata": {},
   "outputs": [
    {
     "name": "stdout",
     "output_type": "stream",
     "text": [
      "{\n",
      "  \"stations\": [\n",
      "    {\n",
      "      \"station_id\": 5,\n",
      "      \"manager_id\": \"200004\",\n",
      "      \"station_name\": \"菜鸟驿站(北京房山区旭辉E天地12号院店)\",\n",
      "      \"address\": \"北京市房山区长虹东路旭辉天地\",\n",
      "      \"coordinates\": {\n",
      "        \"x\": 116.17094900000006,\n",
      "        \"y\": 39.72230799999999\n",
      "      },\n",
      "      \"speed_score\": \"4.3\",\n",
      "      \"service_score\": \"4.0\",\n",
      "      \"price_score\": \"4.4\",\n",
      "      \"business_hours\": \"10:00-22:00\",\n",
      "      \"business_area\": \"旭辉天地\",\n",
      "      \"capacity\": 200,\n",
      "      \"is_open\": 1,\n",
      "      \"distance\": 1058\n",
      "    },\n",
      "    {\n",
      "      \"station_id\": 3,\n",
      "      \"manager_id\": \"200002\",\n",
      "      \"station_name\": \"菜鸟驿站(北京房山绿地社科院店)\",\n",
      "      \"address\": \"北京市房山区辰光东路16号院世纪华联三期9186号\",\n",
      "      \"coordinates\": {\n",
      "        \"x\": 116.180026,\n",
      "        \"y\": 39.742808000000004\n",
      "      },\n",
      "      \"speed_score\": \"3.6\",\n",
      "      \"service_score\": \"4.0\",\n",
      "      \"price_score\": \"4.6\",\n",
      "      \"business_hours\": \"09:00-22:00\",\n",
      "      \"business_area\": \"启航国际-3期\",\n",
      "      \"capacity\": 100,\n",
      "      \"is_open\": 1,\n",
      "      \"distance\": 1400\n",
      "    },\n",
      "    {\n",
      "      \"station_id\": 6,\n",
      "      \"manager_id\": \"200000\",\n",
      "      \"station_name\": \"菜鸟驿站(北京房山阜盛家园店)\",\n",
      "      \"address\": \"北京市房山区长阳镇燕保阜盛家园南区北门院外底商菜鸟驿站\",\n",
      "      \"coordinates\": {\n",
      "        \"x\": 116.19358299999999,\n",
      "        \"y\": 39.71502900000004\n",
      "      },\n",
      "      \"speed_score\": \"4.0\",\n",
      "      \"service_score\": \"5.0\",\n",
      "      \"price_score\": \"5.0\",\n",
      "      \"business_hours\": \"08:00-20:00\",\n",
      "      \"business_area\": \"阜盛家园\",\n",
      "      \"capacity\": 100,\n",
      "      \"is_open\": 1,\n",
      "      \"distance\": 2615\n",
      "    },\n",
      "    {\n",
      "      \"station_id\": 4,\n",
      "      \"manager_id\": \"200003\",\n",
      "      \"station_name\": \"菜鸟驿站(北京房山世茂维拉小区店)\",\n",
      "      \"address\": \"北京市房山区拱辰街道阳城环路22号\",\n",
      "      \"coordinates\": {\n",
      "        \"x\": 115.99157500000001,\n",
      "        \"y\": 39.695620000000005\n",
      "      },\n",
      "      \"speed_score\": \"4.0\",\n",
      "      \"service_score\": \"4.0\",\n",
      "      \"price_score\": \"4.3\",\n",
      "      \"business_hours\": \"08:00-20:00\",\n",
      "      \"business_area\": \"世茂维拉小区\",\n",
      "      \"capacity\": 150,\n",
      "      \"is_open\": 1,\n",
      "      \"distance\": 15959\n",
      "    }\n",
      "  ]\n",
      "}\n"
     ]
    }
   ],
   "source": [
    "fetch(\"http://localhost:3000/station/query\",{\n",
    "    \"longitude\": \"116.17212999999992\",\n",
    "    \"latitude\": \"39.731781999999995\",\n",
    "    \"userId\": \"100000000\"\n",
    "})"
   ]
  },
  {
   "cell_type": "markdown",
   "metadata": {},
   "source": [
    "+ `/query_by_name` 名字包含匹配查询，返回驿站id, 再传入id查询"
   ]
  },
  {
   "cell_type": "code",
   "execution_count": 32,
   "metadata": {},
   "outputs": [
    {
     "name": "stdout",
     "output_type": "stream",
     "text": [
      "{\n",
      "  \"stations\": [\n",
      "    {\n",
      "      \"station_id\": 5,\n",
      "      \"manager_id\": \"200004\",\n",
      "      \"station_name\": \"菜鸟驿站(北京房山区旭辉E天地12号院店)\",\n",
      "      \"address\": \"北京市房山区长虹东路旭辉天地\",\n",
      "      \"coordinates\": {\n",
      "        \"x\": 116.17094900000006,\n",
      "        \"y\": 39.72230799999999\n",
      "      },\n",
      "      \"speed_score\": \"4.3\",\n",
      "      \"service_score\": \"4.0\",\n",
      "      \"price_score\": \"4.4\",\n",
      "      \"business_hours\": \"10:00-22:00\",\n",
      "      \"business_area\": \"旭辉天地\",\n",
      "      \"capacity\": 200,\n",
      "      \"is_open\": 1,\n",
      "      \"distance\": 1058\n",
      "    },\n",
      "    {\n",
      "      \"station_id\": 3,\n",
      "      \"manager_id\": \"200002\",\n",
      "      \"station_name\": \"菜鸟驿站(北京房山绿地社科院店)\",\n",
      "      \"address\": \"北京市房山区辰光东路16号院世纪华联三期9186号\",\n",
      "      \"coordinates\": {\n",
      "        \"x\": 116.180026,\n",
      "        \"y\": 39.742808000000004\n",
      "      },\n",
      "      \"speed_score\": \"3.6\",\n",
      "      \"service_score\": \"4.0\",\n",
      "      \"price_score\": \"4.6\",\n",
      "      \"business_hours\": \"09:00-22:00\",\n",
      "      \"business_area\": \"启航国际-3期\",\n",
      "      \"capacity\": 100,\n",
      "      \"is_open\": 1,\n",
      "      \"distance\": 1400\n",
      "    }\n",
      "  ]\n",
      "}\n"
     ]
    }
   ],
   "source": [
    "fetch(\"http://localhost:3000/station/query_by_name\",{\n",
    "    \"name\": \"院店\",\n",
    "    \"longitude\": \"116.17212999999992\",\n",
    "    \"latitude\": \"39.731781999999995\",\n",
    "    \"userId\": \"100000000\"\n",
    "})"
   ]
  },
  {
   "cell_type": "markdown",
   "metadata": {},
   "source": [
    "### 7. 用户 `/user`\n",
    "\n",
    "+ `/rename` 用户重命名"
   ]
  },
  {
   "cell_type": "code",
   "execution_count": 17,
   "metadata": {},
   "outputs": [
    {
     "name": "stdout",
     "output_type": "stream",
     "text": [
      "{\n",
      "  \"message\": \"用户名更新成功\"\n",
      "}\n"
     ]
    }
   ],
   "source": [
    "fetch(\"http://localhost:3000/user/rename\",{\n",
    "    \"userId\": \"100000000\",\n",
    "    \"user_name\": \"测试用户\"\n",
    "})"
   ]
  },
  {
   "cell_type": "markdown",
   "metadata": {},
   "source": [
    "+ `/reset_password` 用户重设密码"
   ]
  },
  {
   "cell_type": "code",
   "execution_count": 18,
   "metadata": {},
   "outputs": [
    {
     "name": "stdout",
     "output_type": "stream",
     "text": [
      "{\n",
      "  \"message\": \"密码重置成功\"\n",
      "}\n"
     ]
    }
   ],
   "source": [
    "fetch(\"http://localhost:3000/user/reset_password\",{\n",
    "    \"userId\": \"100000000\",\n",
    "    \"new_password\": \"123\"\n",
    "})"
   ]
  },
  {
   "cell_type": "markdown",
   "metadata": {},
   "source": [
    "+ `/query_address` 用户查看保存的地址"
   ]
  },
  {
   "cell_type": "code",
   "execution_count": 7,
   "metadata": {},
   "outputs": [
    {
     "name": "stdout",
     "output_type": "stream",
     "text": [
      "{\n",
      "  \"address\": [\n",
      "    {\n",
      "      \"address_list\": [\n",
      "        \"测试地址2\",\n",
      "        \"测试地址2\",\n",
      "        \"测试地址2\"\n",
      "      ]\n",
      "    }\n",
      "  ]\n",
      "}\n"
     ]
    }
   ],
   "source": [
    "fetch(\"http://localhost:3000/user/query_address\",{ \"userId\": \"100000000\" })"
   ]
  },
  {
   "cell_type": "markdown",
   "metadata": {},
   "source": [
    "+ `/add_address` 用户添加地址(跑两次要不下面找不到数据索引)"
   ]
  },
  {
   "cell_type": "code",
   "execution_count": 6,
   "metadata": {},
   "outputs": [
    {
     "name": "stdout",
     "output_type": "stream",
     "text": [
      "{\n",
      "  \"message\": \"添加地址成功\"\n",
      "}\n"
     ]
    }
   ],
   "source": [
    "fetch(\"http://localhost:3000/user/add_address\",{\n",
    "    \"userId\": \"100000000\",\n",
    "    \"address\": \"测试地址2\"\n",
    "})"
   ]
  },
  {
   "cell_type": "markdown",
   "metadata": {},
   "source": [
    "+ `/delete_address` 用户删除地址"
   ]
  },
  {
   "cell_type": "code",
   "execution_count": 15,
   "metadata": {},
   "outputs": [
    {
     "name": "stdout",
     "output_type": "stream",
     "text": [
      "{\n",
      "  \"message\": \"地址删除成功\"\n",
      "}\n"
     ]
    }
   ],
   "source": [
    "fetch(\"http://localhost:3000/user/delete_address\",{\n",
    "    \"userId\": \"100000000\",\n",
    "    \"index\": \"1\"\n",
    "})"
   ]
  },
  {
   "cell_type": "markdown",
   "metadata": {},
   "source": [
    "### 8. 运单 `/waybill`\n",
    "\n",
    "+ `/not_shipped` 查询未发货的运单"
   ]
  },
  {
   "cell_type": "code",
   "execution_count": 14,
   "metadata": {},
   "outputs": [
    {
     "name": "stdout",
     "output_type": "stream",
     "text": [
      "{\n",
      "  \"waybills\": [\n",
      "    {\n",
      "      \"tracking_number\": 1,\n",
      "      \"send_time\": \"2025-05-26T17:19:40.000Z\",\n",
      "      \"receive_time\": null,\n",
      "      \"origin\": \"北京\",\n",
      "      \"destination\": \"成都\",\n",
      "      \"status\": \"00\",\n",
      "      \"sender_id\": \"100000003\",\n",
      "      \"receiver_id\": \"100000000\",\n",
      "      \"current_station_id\": 6,\n",
      "      \"order_number\": \"YD202505270001\"\n",
      "    },\n",
      "    {\n",
      "      \"tracking_number\": 4,\n",
      "      \"send_time\": \"2025-06-05T17:19:40.000Z\",\n",
      "      \"receive_time\": null,\n",
      "      \"origin\": \"上海\",\n",
      "      \"destination\": \"西安\",\n",
      "      \"status\": \"00\",\n",
      "      \"sender_id\": \"100000003\",\n",
      "      \"receiver_id\": \"100000001\",\n",
      "      \"current_station_id\": 1,\n",
      "      \"order_number\": \"YD202506060004\"\n",
      "    },\n",
      "    {\n",
      "      \"tracking_number\": 6,\n",
      "      \"send_time\": \"2025-05-28T17:19:40.000Z\",\n",
      "      \"receive_time\": null,\n",
      "      \"origin\": \"杭州\",\n",
      "      \"destination\": \"南京\",\n",
      "      \"status\": \"00\",\n",
      "      \"sender_id\": \"100000001\",\n",
      "      \"receiver_id\": \"100000003\",\n",
      "      \"current_station_id\": 5,\n",
      "      \"order_number\": \"YD202505290006\"\n",
      "    },\n",
      "    {\n",
      "      \"tracking_number\": 19,\n",
      "      \"send_time\": \"2025-05-28T17:19:40.000Z\",\n",
      "      \"receive_time\": null,\n",
      "      \"origin\": \"杭州\",\n",
      "      \"destination\": \"西安\",\n",
      "      \"status\": \"00\",\n",
      "      \"sender_id\": \"100000004\",\n",
      "      \"receiver_id\": \"100000003\",\n",
      "      \"current_station_id\": 1,\n",
      "      \"order_number\": \"YD202505290019\"\n",
      "    }\n",
      "  ]\n",
      "}\n"
     ]
    }
   ],
   "source": [
    "fetch(\"http://localhost:3000/waybill/not_shipped\",{\"userId\": \"100000003\"})"
   ]
  },
  {
   "cell_type": "markdown",
   "metadata": {},
   "source": [
    "+ `/pending_pickup` 查询待取件的运单"
   ]
  },
  {
   "cell_type": "code",
   "execution_count": 13,
   "metadata": {},
   "outputs": [
    {
     "name": "stdout",
     "output_type": "stream",
     "text": [
      "{\n",
      "  \"waybills\": [\n",
      "    {\n",
      "      \"tracking_number\": 2,\n",
      "      \"send_time\": \"2025-05-25T17:19:40.000Z\",\n",
      "      \"receive_time\": null,\n",
      "      \"origin\": \"上海\",\n",
      "      \"destination\": \"青岛\",\n",
      "      \"status\": \"01\",\n",
      "      \"sender_id\": \"100000004\",\n",
      "      \"receiver_id\": \"100000000\",\n",
      "      \"current_station_id\": 5,\n",
      "      \"order_number\": \"YD202505260002\"\n",
      "    },\n",
      "    {\n",
      "      \"tracking_number\": 3,\n",
      "      \"send_time\": \"2025-05-26T17:19:40.000Z\",\n",
      "      \"receive_time\": null,\n",
      "      \"origin\": \"上海\",\n",
      "      \"destination\": \"西安\",\n",
      "      \"status\": \"01\",\n",
      "      \"sender_id\": \"100000004\",\n",
      "      \"receiver_id\": \"100000000\",\n",
      "      \"current_station_id\": 1,\n",
      "      \"order_number\": \"YD202505270003\"\n",
      "    }\n",
      "  ]\n",
      "}\n"
     ]
    }
   ],
   "source": [
    "fetch(\"http://localhost:3000/waybill/pending_pickup\", {\"userId\":\"100000000\"})"
   ]
  },
  {
   "cell_type": "markdown",
   "metadata": {},
   "source": [
    "+ `/in_transit` 查询运输中的运单 "
   ]
  },
  {
   "cell_type": "code",
   "execution_count": 12,
   "metadata": {},
   "outputs": [
    {
     "name": "stdout",
     "output_type": "stream",
     "text": [
      "{\n",
      "  \"waybills\": [\n",
      "    {\n",
      "      \"tracking_number\": 18,\n",
      "      \"send_time\": \"2025-06-05T17:19:40.000Z\",\n",
      "      \"receive_time\": null,\n",
      "      \"origin\": \"杭州\",\n",
      "      \"destination\": \"西安\",\n",
      "      \"status\": \"10\",\n",
      "      \"sender_id\": \"100000001\",\n",
      "      \"receiver_id\": \"100000002\",\n",
      "      \"current_station_id\": 2,\n",
      "      \"order_number\": \"YD202506060018\"\n",
      "    }\n",
      "  ]\n",
      "}\n"
     ]
    }
   ],
   "source": [
    "fetch(\"http://localhost:3000/waybill/in_transit\", {\"userId\":\"100000002\"})"
   ]
  },
  {
   "cell_type": "markdown",
   "metadata": {},
   "source": [
    "+ `/history` 查询历史运单 "
   ]
  },
  {
   "cell_type": "code",
   "execution_count": 11,
   "metadata": {},
   "outputs": [
    {
     "name": "stdout",
     "output_type": "stream",
     "text": [
      "{\n",
      "  \"waybills\": [\n",
      "    {\n",
      "      \"tracking_number\": 7,\n",
      "      \"send_time\": \"2025-06-06T17:19:40.000Z\",\n",
      "      \"receive_time\": \"2025-06-10T17:19:40.000Z\",\n",
      "      \"origin\": \"北京\",\n",
      "      \"destination\": \"成都\",\n",
      "      \"status\": \"11\",\n",
      "      \"sender_id\": \"100000001\",\n",
      "      \"receiver_id\": \"100000003\",\n",
      "      \"current_station_id\": 2,\n",
      "      \"order_number\": \"YD202506070007\"\n",
      "    },\n",
      "    {\n",
      "      \"tracking_number\": 17,\n",
      "      \"send_time\": \"2025-06-06T17:19:40.000Z\",\n",
      "      \"receive_time\": \"2025-06-10T17:19:40.000Z\",\n",
      "      \"origin\": \"上海\",\n",
      "      \"destination\": \"成都\",\n",
      "      \"status\": \"11\",\n",
      "      \"sender_id\": \"100000001\",\n",
      "      \"receiver_id\": \"100000000\",\n",
      "      \"current_station_id\": 5,\n",
      "      \"order_number\": \"YD202506070017\"\n",
      "    }\n",
      "  ]\n",
      "}\n"
     ]
    }
   ],
   "source": [
    "fetch(\"http://localhost:3000/waybill/history\", {\"userId\":\"100000001\"})"
   ]
  },
  {
   "cell_type": "markdown",
   "metadata": {},
   "source": [
    "+  `/query` 根据订单号查询运单"
   ]
  },
  {
   "cell_type": "code",
   "execution_count": 10,
   "metadata": {},
   "outputs": [
    {
     "name": "stdout",
     "output_type": "stream",
     "text": [
      "{\n",
      "  \"waybills\": [\n",
      "    {\n",
      "      \"tracking_number\": 17,\n",
      "      \"send_time\": \"2025-06-06T17:19:40.000Z\",\n",
      "      \"receive_time\": \"2025-06-10T17:19:40.000Z\",\n",
      "      \"origin\": \"上海\",\n",
      "      \"destination\": \"成都\",\n",
      "      \"status\": \"11\",\n",
      "      \"sender_id\": \"100000001\",\n",
      "      \"receiver_id\": \"100000000\",\n",
      "      \"current_station_id\": 5,\n",
      "      \"order_number\": \"YD202506070017\"\n",
      "    }\n",
      "  ]\n",
      "}\n"
     ]
    }
   ],
   "source": [
    "fetch(\"http://localhost:3000/waybill/query\",{\"orderNumber\":\"YD202506070017\"})"
   ]
  }
 ],
 "metadata": {
  "kernelspec": {
   "display_name": "GSV",
   "language": "python",
   "name": "python3"
  },
  "language_info": {
   "codemirror_mode": {
    "name": "ipython",
    "version": 3
   },
   "file_extension": ".py",
   "mimetype": "text/x-python",
   "name": "python",
   "nbconvert_exporter": "python",
   "pygments_lexer": "ipython3",
   "version": "3.9.20"
  }
 },
 "nbformat": 4,
 "nbformat_minor": 2
}
