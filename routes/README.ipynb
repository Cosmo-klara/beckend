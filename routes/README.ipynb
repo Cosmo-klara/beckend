{
 "cells": [
  {
   "cell_type": "markdown",
   "metadata": {},
   "source": [
    "## 接口说明\n",
    "\n",
    "> 需要增加接口功能请整理成文档在 GitHub 上提交 issue，我会尽快处理。\n",
    "\n",
    "下面的代码仅用于打印接口返回数据，url:接口 data：接口的请求体，均使用 POST"
   ]
  },
  {
   "cell_type": "code",
   "execution_count": 3,
   "metadata": {},
   "outputs": [],
   "source": [
    "import requests\n",
    "import json\n",
    "def fetch(url, data, headers=None):\n",
    "    if headers is None:\n",
    "        headers = {\"Content-Type\": \"application/json\"}\n",
    "    try:\n",
    "        response = requests.post(url, headers=headers, json=data)\n",
    "        response.raise_for_status()  # 检查请求是否成功\n",
    "        # 美化JSON输出\n",
    "        pretty_json = json.dumps(response.json(), indent=2, ensure_ascii=False)\n",
    "        print(pretty_json)\n",
    "    except requests.exceptions.RequestException as e:\n",
    "        return f\"请求失败: {str(e)}\"\n",
    "    except json.JSONDecodeError:\n",
    "        return \"返回的数据不是有效的JSON格式\""
   ]
  },
  {
   "cell_type": "markdown",
   "metadata": {},
   "source": [
    "### 1. 用户 `/auth`\n",
    "\n",
    "+ `/register` 注册用户写入数据库"
   ]
  },
  {
   "cell_type": "code",
   "execution_count": 5,
   "metadata": {},
   "outputs": [
    {
     "name": "stdout",
     "output_type": "stream",
     "text": [
      "{\n",
      "  \"message\": \"Register successful\"\n",
      "}\n"
     ]
    }
   ],
   "source": [
    "fetch(\"http://localhost:3000/auth/register\",{ \"role\": \"user\",\"id\": \"100000009\", \"password\": \"0\"})"
   ]
  },
  {
   "cell_type": "markdown",
   "metadata": {},
   "source": [
    "+ `/login` 用户登录验证密码"
   ]
  },
  {
   "cell_type": "code",
   "execution_count": null,
   "metadata": {},
   "outputs": [],
   "source": [
    "fetch(\"http://localhost:3000/auth/login\",{\"id\": \"100000000\", \"password\": \"0\"})"
   ]
  },
  {
   "cell_type": "markdown",
   "metadata": {},
   "source": [
    "### 运单 `/waybill`\n",
    "\n",
    "+ `/not_shipped` 查询未发货的运单"
   ]
  },
  {
   "cell_type": "code",
   "execution_count": null,
   "metadata": {},
   "outputs": [],
   "source": [
    "fetch(\"http://localhost:3000/waybill/not_shipped\",{\"id\": \"100000003\"})"
   ]
  },
  {
   "cell_type": "markdown",
   "metadata": {},
   "source": [
    "+ `/pending_pickup` 查询待取件的运单"
   ]
  },
  {
   "cell_type": "code",
   "execution_count": null,
   "metadata": {},
   "outputs": [],
   "source": [
    "fetch(\"http://localhost:3000/waybill/pending_pickup\", {\"id\":\"100000000\"})"
   ]
  },
  {
   "cell_type": "markdown",
   "metadata": {},
   "source": [
    "+ `/in_transit` 查询运输中的运单 "
   ]
  },
  {
   "cell_type": "code",
   "execution_count": null,
   "metadata": {},
   "outputs": [],
   "source": [
    "fetch(\"http://localhost:3000/waybill/in_transit\", {\"id\":\"100000002\"})"
   ]
  },
  {
   "cell_type": "markdown",
   "metadata": {},
   "source": [
    "+ `/history` 查询历史运单 "
   ]
  },
  {
   "cell_type": "code",
   "execution_count": null,
   "metadata": {},
   "outputs": [],
   "source": [
    "fetch(\"http://localhost:3000/waybill/history\", {\"id\":\"100000001\"})"
   ]
  }
 ],
 "metadata": {
  "kernelspec": {
   "display_name": "GSV",
   "language": "python",
   "name": "python3"
  },
  "language_info": {
   "codemirror_mode": {
    "name": "ipython",
    "version": 3
   },
   "file_extension": ".py",
   "mimetype": "text/x-python",
   "name": "python",
   "nbconvert_exporter": "python",
   "pygments_lexer": "ipython3",
   "version": "3.9.20"
  }
 },
 "nbformat": 4,
 "nbformat_minor": 2
}
