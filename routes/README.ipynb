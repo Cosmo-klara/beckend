{
 "cells": [
  {
   "cell_type": "markdown",
   "metadata": {},
   "source": [
    "## 接口说明\n",
    "\n",
    "> 需要增加接口功能请整理成文档在 GitHub 上提交 issue，我会尽快处理。\n",
    "\n",
    "下面的代码仅用于打印接口返回数据，url:接口 data：接口的请求体，均使用 POST"
   ]
  },
  {
   "cell_type": "code",
   "execution_count": null,
   "metadata": {},
   "outputs": [],
   "source": [
    "import requests\n",
    "import json\n",
    "def fetch(url, data, headers=None):\n",
    "    if headers is None:\n",
    "        headers = {\"Content-Type\": \"application/json\"}\n",
    "    try:\n",
    "        response = requests.post(url, headers=headers, json=data)\n",
    "        response.raise_for_status()  # 检查请求是否成功\n",
    "        # 美化JSON输出\n",
    "        pretty_json = json.dumps(response.json(), indent=2, ensure_ascii=False)\n",
    "        print(pretty_json)\n",
    "    except requests.exceptions.RequestException as e:\n",
    "        return f\"请求失败: {str(e)}\"\n",
    "    except json.JSONDecodeError:\n",
    "        return \"返回的数据不是有效的JSON格式\""
   ]
  },
  {
   "cell_type": "markdown",
   "metadata": {},
   "source": [
    "### 1. 用户 `/auth`\n",
    "\n",
    "+ `/register` 注册用户写入数据库"
   ]
  },
  {
   "cell_type": "code",
   "execution_count": null,
   "metadata": {},
   "outputs": [],
   "source": [
    "fetch(\"http://localhost:3000/auth/register\",{\n",
    "    \"role\": \"user\",\n",
    "    \"id\": \"100000009\",\n",
    "    \"password\": \"0\"\n",
    "    })"
   ]
  },
  {
   "cell_type": "markdown",
   "metadata": {},
   "source": [
    "+ `/login` 用户登录验证密码"
   ]
  },
  {
   "cell_type": "code",
   "execution_count": null,
   "metadata": {},
   "outputs": [],
   "source": [
    "fetch(\"http://localhost:3000/auth/login\",{\n",
    "    \"id\": \"100000000\",\n",
    "    \"password\": \"0\"\n",
    "    })"
   ]
  },
  {
   "cell_type": "markdown",
   "metadata": {},
   "source": [
    "### 2. 评论 `/comment`\n",
    "\n",
    "+ `/query` 查询驿站的评价"
   ]
  },
  {
   "cell_type": "code",
   "execution_count": null,
   "metadata": {},
   "outputs": [],
   "source": [
    "fetch(\"http://localhost:3000/comment/query\",{\"stationId\": \"3\"})"
   ]
  },
  {
   "cell_type": "markdown",
   "metadata": {},
   "source": [
    "+ `/query_mine` 查询我的评价"
   ]
  },
  {
   "cell_type": "code",
   "execution_count": null,
   "metadata": {},
   "outputs": [],
   "source": [
    "fetch(\"http://localhost:3000/comment/query_mine\",{\"userId\": \"100000002\"})"
   ]
  },
  {
   "cell_type": "markdown",
   "metadata": {},
   "source": [
    "+ `/add` 添加评价"
   ]
  },
  {
   "cell_type": "code",
   "execution_count": null,
   "metadata": {},
   "outputs": [],
   "source": [
    "fetch(\"http://localhost:3000/comment/add\",{\n",
    "    \"userId\": \"100000002\",\n",
    "    \"stationId\": \"3\",\n",
    "    \"speed_score\": \"3\",\n",
    "    \"service_score\": \"4\",\n",
    "    \"price_score\": \"5\",\n",
    "    \"comment_content\": \"这是一个测试这是一个测试这是一个测试\"\n",
    "    })"
   ]
  },
  {
   "cell_type": "markdown",
   "metadata": {},
   "source": [
    "+ `/delete` 删除评价"
   ]
  },
  {
   "cell_type": "code",
   "execution_count": null,
   "metadata": {},
   "outputs": [],
   "source": [
    "fetch(\"http://localhost:3000/comment/delete\",{\n",
    "    \"commentId\": \"31\",\n",
    "    \"userId\": \"100000002\"\n",
    "    })"
   ]
  },
  {
   "cell_type": "markdown",
   "metadata": {},
   "source": [
    "### 3. 收藏 `/favorite`\n",
    "\n",
    "+ `/query` 查看用户收藏的驿站信息，展示用户的收藏"
   ]
  },
  {
   "cell_type": "code",
   "execution_count": null,
   "metadata": {},
   "outputs": [],
   "source": [
    "fetch(\"http://localhost:3000/favorite/query\",{\"userId\": \"100000001\"})"
   ]
  },
  {
   "cell_type": "markdown",
   "metadata": {},
   "source": [
    "+ `/add` 添加收藏"
   ]
  },
  {
   "cell_type": "code",
   "execution_count": null,
   "metadata": {},
   "outputs": [],
   "source": [
    "fetch(\"http://localhost:3000/favorite/add\",{\n",
    "    \"userId\": \"100000000\",\n",
    "    \"stationId\": \"2\"\n",
    "    })"
   ]
  },
  {
   "cell_type": "markdown",
   "metadata": {},
   "source": [
    "+ `/remove` 移除收藏"
   ]
  },
  {
   "cell_type": "code",
   "execution_count": null,
   "metadata": {},
   "outputs": [],
   "source": [
    "fetch(\"http://localhost:3000/favorite/remove\",{\n",
    "    \"userId\": \"100000000\",\n",
    "    \"stationId\": \"2\"\n",
    "    })"
   ]
  },
  {
   "cell_type": "markdown",
   "metadata": {},
   "source": [
    "### 4. 驿站管理员 `/manager`\n",
    "\n",
    "+ `/query` 查询管理的驿站"
   ]
  },
  {
   "cell_type": "code",
   "execution_count": null,
   "metadata": {},
   "outputs": [],
   "source": [
    "fetch(\"http://localhost:3000/manager/query\",{ \"managerId\": \"200000\"})"
   ]
  },
  {
   "cell_type": "markdown",
   "metadata": {},
   "source": [
    "+ `/add` 添加驿站"
   ]
  },
  {
   "cell_type": "code",
   "execution_count": null,
   "metadata": {},
   "outputs": [],
   "source": [
    "fetch(\"http://localhost:3000/manager/add\",{\n",
    "    \"managerId\": \"200000\",\n",
    "    \"station_name\": \"测试驿站\",\n",
    "    \"address\": \"测试地址测试地址\",\n",
    "    \"business_hours\": \"08:00-20:00\",\n",
    "    \"business_area\": \"测试区域\",\n",
    "    \"capacity\": \"50\",\n",
    "    \"is_open\": \"1\"\n",
    "})"
   ]
  },
  {
   "cell_type": "markdown",
   "metadata": {},
   "source": [
    "+ `/modify` 修改驿站信息"
   ]
  },
  {
   "cell_type": "code",
   "execution_count": null,
   "metadata": {},
   "outputs": [],
   "source": [
    "fetch(\"http://localhost:3000/manager/modify\",{\n",
    "    \"stationId\": \"7\",\n",
    "    \"station_name\": \"测试修改驿站\",\n",
    "    \"address\": \"测试地址测试地址\",\n",
    "    \"business_hours\": \"08:00-20:00\",\n",
    "    \"business_area\": \"测试区域\",\n",
    "    \"capacity\": \"50\",\n",
    "    \"is_open\": \"0\"\n",
    "})"
   ]
  },
  {
   "cell_type": "markdown",
   "metadata": {},
   "source": [
    "+ `/remove` 移除驿站"
   ]
  },
  {
   "cell_type": "code",
   "execution_count": null,
   "metadata": {},
   "outputs": [],
   "source": [
    "fetch(\"http://localhost:3000/manager/remove\",{ \"stationId\": \"7\"})"
   ]
  },
  {
   "cell_type": "markdown",
   "metadata": {},
   "source": [
    "### 5. 驿站  `station`\n",
    "\n",
    "+ `/query` 查询驿站信息"
   ]
  },
  {
   "cell_type": "code",
   "execution_count": null,
   "metadata": {},
   "outputs": [],
   "source": [
    "fetch(\"http://localhost:3000/station/query\",{\n",
    "    \"managerId\": \"200000\",\n",
    "    \"longitude\": \"116.17212999999992\",\n",
    "    \"latitude\": \"39.731781999999995\"\n",
    "})"
   ]
  },
  {
   "cell_type": "markdown",
   "metadata": {},
   "source": [
    "+ `/query_by_name` 名字包含匹配查询，返回驿站id, 再传入id查询"
   ]
  },
  {
   "cell_type": "code",
   "execution_count": null,
   "metadata": {},
   "outputs": [],
   "source": [
    "fetch(\"http://localhost:3000/station/query_by_name\",{ \"name\": \"院店\"})"
   ]
  },
  {
   "cell_type": "markdown",
   "metadata": {},
   "source": []
  },
  {
   "cell_type": "markdown",
   "metadata": {},
   "source": [
    "### 运单 `/waybill`\n",
    "\n",
    "+ `/not_shipped` 查询未发货的运单"
   ]
  },
  {
   "cell_type": "code",
   "execution_count": null,
   "metadata": {},
   "outputs": [],
   "source": [
    "fetch(\"http://localhost:3000/waybill/not_shipped\",{\"userId\": \"100000003\"})"
   ]
  },
  {
   "cell_type": "markdown",
   "metadata": {},
   "source": [
    "+ `/pending_pickup` 查询待取件的运单"
   ]
  },
  {
   "cell_type": "code",
   "execution_count": null,
   "metadata": {},
   "outputs": [],
   "source": [
    "fetch(\"http://localhost:3000/waybill/pending_pickup\", {\"userId\":\"100000000\"})"
   ]
  },
  {
   "cell_type": "markdown",
   "metadata": {},
   "source": [
    "+ `/in_transit` 查询运输中的运单 "
   ]
  },
  {
   "cell_type": "code",
   "execution_count": null,
   "metadata": {},
   "outputs": [],
   "source": [
    "fetch(\"http://localhost:3000/waybill/in_transit\", {\"userId\":\"100000002\"})"
   ]
  },
  {
   "cell_type": "markdown",
   "metadata": {},
   "source": [
    "+ `/history` 查询历史运单 "
   ]
  },
  {
   "cell_type": "code",
   "execution_count": null,
   "metadata": {},
   "outputs": [],
   "source": [
    "fetch(\"http://localhost:3000/waybill/history\", {\"userId\":\"100000001\"})"
   ]
  },
  {
   "cell_type": "markdown",
   "metadata": {},
   "source": [
    "+  `/query` 根据订单号查询运单"
   ]
  },
  {
   "cell_type": "code",
   "execution_count": null,
   "metadata": {},
   "outputs": [],
   "source": [
    "fetch(\"http://localhost:3000/waybill/query\",{\"orderNumber\":\"YD202506070017\"})"
   ]
  }
 ],
 "metadata": {
  "kernelspec": {
   "display_name": "GSV",
   "language": "python",
   "name": "python3"
  },
  "language_info": {
   "codemirror_mode": {
    "name": "ipython",
    "version": 3
   },
   "file_extension": ".py",
   "mimetype": "text/x-python",
   "name": "python",
   "nbconvert_exporter": "python",
   "pygments_lexer": "ipython3",
   "version": "3.9.20"
  }
 },
 "nbformat": 4,
 "nbformat_minor": 2
}
